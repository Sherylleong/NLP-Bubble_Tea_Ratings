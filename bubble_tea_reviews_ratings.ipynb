{
  "nbformat": 4,
  "nbformat_minor": 0,
  "metadata": {
    "colab": {
      "provenance": []
    },
    "kernelspec": {
      "name": "python3",
      "display_name": "Python 3"
    },
    "language_info": {
      "name": "python"
    }
  },
  "cells": [
    {
      "cell_type": "code",
      "metadata": {
        "id": "sg6k1OKzO_AZ",
        "colab": {
          "base_uri": "https://localhost:8080/"
        },
        "outputId": "404b5195-03f8-447b-cf72-801de3a3d3a9"
      },
      "source": [
        "# only needed if running from colab\n",
        "#from google.colab import drive\n",
        "#drive.mount('/content/drive')"
      ],
      "execution_count": 16,
      "outputs": [
        {
          "output_type": "stream",
          "name": "stdout",
          "text": [
            "Drive already mounted at /content/drive; to attempt to forcibly remount, call drive.mount(\"/content/drive\", force_remount=True).\n"
          ]
        }
      ]
    },
    {
      "cell_type": "code",
      "metadata": {
        "id": "XdgUOqOHO0Xo"
      },
      "source": [
        "import os\n",
        "import numpy as np\n",
        "import pandas as pd\n",
        "import tensorflow as tf\n",
        "\n",
        "from sklearn.preprocessing import LabelEncoder\n",
        "\n",
        "from tensorflow import keras\n",
        "layers = keras.layers"
      ],
      "execution_count": 17,
      "outputs": []
    },
    {
      "cell_type": "code",
      "metadata": {
        "colab": {
          "base_uri": "https://localhost:8080/",
          "height": 206
        },
        "id": "gJR6FV5NFHpJ",
        "outputId": "12ebc01f-97d6-4a32-f196-914b9d27e277"
      },
      "source": [
        "df = pd.read_excel(\"/content/drive/MyDrive/Colab Notebooks/Bubble Tea Rating.xlsx\")\n",
        "df.head()"
      ],
      "execution_count": 18,
      "outputs": [
        {
          "output_type": "execute_result",
          "data": {
            "text/plain": [
              "              name                product  rating  \\\n",
              "0  108 Matcha Saro   Ice Matcha Green Tea     6.0   \n",
              "1          80 Tang    Full House Milk Tea     6.0   \n",
              "2            Artea        Mango Milkshake     7.5   \n",
              "3    Ayi Soya Milk  Brown Sugar Soya Milk     4.0   \n",
              "4        BlackBall         Fresh Milk Tea     6.0   \n",
              "\n",
              "                                            comments  \n",
              "0  Normal Matcha green tea, not much to say about...  \n",
              "1  Standard Milk tea with 4 different toppings in...  \n",
              "2  Good drink with actual mango chunks. Only issu...  \n",
              "3  Not good, too thick. Soy milk does not go well...  \n",
              "4  Very normal milk tea that is decent for its price  "
            ],
            "text/html": [
              "\n",
              "  <div id=\"df-32a288d3-e5a6-404d-aba5-eff81e0c628e\">\n",
              "    <div class=\"colab-df-container\">\n",
              "      <div>\n",
              "<style scoped>\n",
              "    .dataframe tbody tr th:only-of-type {\n",
              "        vertical-align: middle;\n",
              "    }\n",
              "\n",
              "    .dataframe tbody tr th {\n",
              "        vertical-align: top;\n",
              "    }\n",
              "\n",
              "    .dataframe thead th {\n",
              "        text-align: right;\n",
              "    }\n",
              "</style>\n",
              "<table border=\"1\" class=\"dataframe\">\n",
              "  <thead>\n",
              "    <tr style=\"text-align: right;\">\n",
              "      <th></th>\n",
              "      <th>name</th>\n",
              "      <th>product</th>\n",
              "      <th>rating</th>\n",
              "      <th>comments</th>\n",
              "    </tr>\n",
              "  </thead>\n",
              "  <tbody>\n",
              "    <tr>\n",
              "      <th>0</th>\n",
              "      <td>108 Matcha Saro</td>\n",
              "      <td>Ice Matcha Green Tea</td>\n",
              "      <td>6.0</td>\n",
              "      <td>Normal Matcha green tea, not much to say about...</td>\n",
              "    </tr>\n",
              "    <tr>\n",
              "      <th>1</th>\n",
              "      <td>80 Tang</td>\n",
              "      <td>Full House Milk Tea</td>\n",
              "      <td>6.0</td>\n",
              "      <td>Standard Milk tea with 4 different toppings in...</td>\n",
              "    </tr>\n",
              "    <tr>\n",
              "      <th>2</th>\n",
              "      <td>Artea</td>\n",
              "      <td>Mango Milkshake</td>\n",
              "      <td>7.5</td>\n",
              "      <td>Good drink with actual mango chunks. Only issu...</td>\n",
              "    </tr>\n",
              "    <tr>\n",
              "      <th>3</th>\n",
              "      <td>Ayi Soya Milk</td>\n",
              "      <td>Brown Sugar Soya Milk</td>\n",
              "      <td>4.0</td>\n",
              "      <td>Not good, too thick. Soy milk does not go well...</td>\n",
              "    </tr>\n",
              "    <tr>\n",
              "      <th>4</th>\n",
              "      <td>BlackBall</td>\n",
              "      <td>Fresh Milk Tea</td>\n",
              "      <td>6.0</td>\n",
              "      <td>Very normal milk tea that is decent for its price</td>\n",
              "    </tr>\n",
              "  </tbody>\n",
              "</table>\n",
              "</div>\n",
              "      <button class=\"colab-df-convert\" onclick=\"convertToInteractive('df-32a288d3-e5a6-404d-aba5-eff81e0c628e')\"\n",
              "              title=\"Convert this dataframe to an interactive table.\"\n",
              "              style=\"display:none;\">\n",
              "        \n",
              "  <svg xmlns=\"http://www.w3.org/2000/svg\" height=\"24px\"viewBox=\"0 0 24 24\"\n",
              "       width=\"24px\">\n",
              "    <path d=\"M0 0h24v24H0V0z\" fill=\"none\"/>\n",
              "    <path d=\"M18.56 5.44l.94 2.06.94-2.06 2.06-.94-2.06-.94-.94-2.06-.94 2.06-2.06.94zm-11 1L8.5 8.5l.94-2.06 2.06-.94-2.06-.94L8.5 2.5l-.94 2.06-2.06.94zm10 10l.94 2.06.94-2.06 2.06-.94-2.06-.94-.94-2.06-.94 2.06-2.06.94z\"/><path d=\"M17.41 7.96l-1.37-1.37c-.4-.4-.92-.59-1.43-.59-.52 0-1.04.2-1.43.59L10.3 9.45l-7.72 7.72c-.78.78-.78 2.05 0 2.83L4 21.41c.39.39.9.59 1.41.59.51 0 1.02-.2 1.41-.59l7.78-7.78 2.81-2.81c.8-.78.8-2.07 0-2.86zM5.41 20L4 18.59l7.72-7.72 1.47 1.35L5.41 20z\"/>\n",
              "  </svg>\n",
              "      </button>\n",
              "      \n",
              "  <style>\n",
              "    .colab-df-container {\n",
              "      display:flex;\n",
              "      flex-wrap:wrap;\n",
              "      gap: 12px;\n",
              "    }\n",
              "\n",
              "    .colab-df-convert {\n",
              "      background-color: #E8F0FE;\n",
              "      border: none;\n",
              "      border-radius: 50%;\n",
              "      cursor: pointer;\n",
              "      display: none;\n",
              "      fill: #1967D2;\n",
              "      height: 32px;\n",
              "      padding: 0 0 0 0;\n",
              "      width: 32px;\n",
              "    }\n",
              "\n",
              "    .colab-df-convert:hover {\n",
              "      background-color: #E2EBFA;\n",
              "      box-shadow: 0px 1px 2px rgba(60, 64, 67, 0.3), 0px 1px 3px 1px rgba(60, 64, 67, 0.15);\n",
              "      fill: #174EA6;\n",
              "    }\n",
              "\n",
              "    [theme=dark] .colab-df-convert {\n",
              "      background-color: #3B4455;\n",
              "      fill: #D2E3FC;\n",
              "    }\n",
              "\n",
              "    [theme=dark] .colab-df-convert:hover {\n",
              "      background-color: #434B5C;\n",
              "      box-shadow: 0px 1px 3px 1px rgba(0, 0, 0, 0.15);\n",
              "      filter: drop-shadow(0px 1px 2px rgba(0, 0, 0, 0.3));\n",
              "      fill: #FFFFFF;\n",
              "    }\n",
              "  </style>\n",
              "\n",
              "      <script>\n",
              "        const buttonEl =\n",
              "          document.querySelector('#df-32a288d3-e5a6-404d-aba5-eff81e0c628e button.colab-df-convert');\n",
              "        buttonEl.style.display =\n",
              "          google.colab.kernel.accessAllowed ? 'block' : 'none';\n",
              "\n",
              "        async function convertToInteractive(key) {\n",
              "          const element = document.querySelector('#df-32a288d3-e5a6-404d-aba5-eff81e0c628e');\n",
              "          const dataTable =\n",
              "            await google.colab.kernel.invokeFunction('convertToInteractive',\n",
              "                                                     [key], {});\n",
              "          if (!dataTable) return;\n",
              "\n",
              "          const docLinkHtml = 'Like what you see? Visit the ' +\n",
              "            '<a target=\"_blank\" href=https://colab.research.google.com/notebooks/data_table.ipynb>data table notebook</a>'\n",
              "            + ' to learn more about interactive tables.';\n",
              "          element.innerHTML = '';\n",
              "          dataTable['output_type'] = 'display_data';\n",
              "          await google.colab.output.renderOutput(dataTable, element);\n",
              "          const docLink = document.createElement('div');\n",
              "          docLink.innerHTML = docLinkHtml;\n",
              "          element.appendChild(docLink);\n",
              "        }\n",
              "      </script>\n",
              "    </div>\n",
              "  </div>\n",
              "  "
            ]
          },
          "metadata": {},
          "execution_count": 18
        }
      ]
    },
    {
      "cell_type": "code",
      "metadata": {
        "colab": {
          "base_uri": "https://localhost:8080/",
          "height": 300
        },
        "id": "hQZpNIcEG7QB",
        "outputId": "5133253d-4adc-4e69-921c-25c36ac16fcf"
      },
      "source": [
        "df.describe()"
      ],
      "execution_count": 19,
      "outputs": [
        {
          "output_type": "execute_result",
          "data": {
            "text/plain": [
              "          rating\n",
              "count  83.000000\n",
              "mean    6.132530\n",
              "std     1.015383\n",
              "min     3.000000\n",
              "25%     5.750000\n",
              "50%     6.000000\n",
              "75%     7.000000\n",
              "max     8.500000"
            ],
            "text/html": [
              "\n",
              "  <div id=\"df-ecbd70f9-1b6c-461e-b4e2-306e3a7604ec\">\n",
              "    <div class=\"colab-df-container\">\n",
              "      <div>\n",
              "<style scoped>\n",
              "    .dataframe tbody tr th:only-of-type {\n",
              "        vertical-align: middle;\n",
              "    }\n",
              "\n",
              "    .dataframe tbody tr th {\n",
              "        vertical-align: top;\n",
              "    }\n",
              "\n",
              "    .dataframe thead th {\n",
              "        text-align: right;\n",
              "    }\n",
              "</style>\n",
              "<table border=\"1\" class=\"dataframe\">\n",
              "  <thead>\n",
              "    <tr style=\"text-align: right;\">\n",
              "      <th></th>\n",
              "      <th>rating</th>\n",
              "    </tr>\n",
              "  </thead>\n",
              "  <tbody>\n",
              "    <tr>\n",
              "      <th>count</th>\n",
              "      <td>83.000000</td>\n",
              "    </tr>\n",
              "    <tr>\n",
              "      <th>mean</th>\n",
              "      <td>6.132530</td>\n",
              "    </tr>\n",
              "    <tr>\n",
              "      <th>std</th>\n",
              "      <td>1.015383</td>\n",
              "    </tr>\n",
              "    <tr>\n",
              "      <th>min</th>\n",
              "      <td>3.000000</td>\n",
              "    </tr>\n",
              "    <tr>\n",
              "      <th>25%</th>\n",
              "      <td>5.750000</td>\n",
              "    </tr>\n",
              "    <tr>\n",
              "      <th>50%</th>\n",
              "      <td>6.000000</td>\n",
              "    </tr>\n",
              "    <tr>\n",
              "      <th>75%</th>\n",
              "      <td>7.000000</td>\n",
              "    </tr>\n",
              "    <tr>\n",
              "      <th>max</th>\n",
              "      <td>8.500000</td>\n",
              "    </tr>\n",
              "  </tbody>\n",
              "</table>\n",
              "</div>\n",
              "      <button class=\"colab-df-convert\" onclick=\"convertToInteractive('df-ecbd70f9-1b6c-461e-b4e2-306e3a7604ec')\"\n",
              "              title=\"Convert this dataframe to an interactive table.\"\n",
              "              style=\"display:none;\">\n",
              "        \n",
              "  <svg xmlns=\"http://www.w3.org/2000/svg\" height=\"24px\"viewBox=\"0 0 24 24\"\n",
              "       width=\"24px\">\n",
              "    <path d=\"M0 0h24v24H0V0z\" fill=\"none\"/>\n",
              "    <path d=\"M18.56 5.44l.94 2.06.94-2.06 2.06-.94-2.06-.94-.94-2.06-.94 2.06-2.06.94zm-11 1L8.5 8.5l.94-2.06 2.06-.94-2.06-.94L8.5 2.5l-.94 2.06-2.06.94zm10 10l.94 2.06.94-2.06 2.06-.94-2.06-.94-.94-2.06-.94 2.06-2.06.94z\"/><path d=\"M17.41 7.96l-1.37-1.37c-.4-.4-.92-.59-1.43-.59-.52 0-1.04.2-1.43.59L10.3 9.45l-7.72 7.72c-.78.78-.78 2.05 0 2.83L4 21.41c.39.39.9.59 1.41.59.51 0 1.02-.2 1.41-.59l7.78-7.78 2.81-2.81c.8-.78.8-2.07 0-2.86zM5.41 20L4 18.59l7.72-7.72 1.47 1.35L5.41 20z\"/>\n",
              "  </svg>\n",
              "      </button>\n",
              "      \n",
              "  <style>\n",
              "    .colab-df-container {\n",
              "      display:flex;\n",
              "      flex-wrap:wrap;\n",
              "      gap: 12px;\n",
              "    }\n",
              "\n",
              "    .colab-df-convert {\n",
              "      background-color: #E8F0FE;\n",
              "      border: none;\n",
              "      border-radius: 50%;\n",
              "      cursor: pointer;\n",
              "      display: none;\n",
              "      fill: #1967D2;\n",
              "      height: 32px;\n",
              "      padding: 0 0 0 0;\n",
              "      width: 32px;\n",
              "    }\n",
              "\n",
              "    .colab-df-convert:hover {\n",
              "      background-color: #E2EBFA;\n",
              "      box-shadow: 0px 1px 2px rgba(60, 64, 67, 0.3), 0px 1px 3px 1px rgba(60, 64, 67, 0.15);\n",
              "      fill: #174EA6;\n",
              "    }\n",
              "\n",
              "    [theme=dark] .colab-df-convert {\n",
              "      background-color: #3B4455;\n",
              "      fill: #D2E3FC;\n",
              "    }\n",
              "\n",
              "    [theme=dark] .colab-df-convert:hover {\n",
              "      background-color: #434B5C;\n",
              "      box-shadow: 0px 1px 3px 1px rgba(0, 0, 0, 0.15);\n",
              "      filter: drop-shadow(0px 1px 2px rgba(0, 0, 0, 0.3));\n",
              "      fill: #FFFFFF;\n",
              "    }\n",
              "  </style>\n",
              "\n",
              "      <script>\n",
              "        const buttonEl =\n",
              "          document.querySelector('#df-ecbd70f9-1b6c-461e-b4e2-306e3a7604ec button.colab-df-convert');\n",
              "        buttonEl.style.display =\n",
              "          google.colab.kernel.accessAllowed ? 'block' : 'none';\n",
              "\n",
              "        async function convertToInteractive(key) {\n",
              "          const element = document.querySelector('#df-ecbd70f9-1b6c-461e-b4e2-306e3a7604ec');\n",
              "          const dataTable =\n",
              "            await google.colab.kernel.invokeFunction('convertToInteractive',\n",
              "                                                     [key], {});\n",
              "          if (!dataTable) return;\n",
              "\n",
              "          const docLinkHtml = 'Like what you see? Visit the ' +\n",
              "            '<a target=\"_blank\" href=https://colab.research.google.com/notebooks/data_table.ipynb>data table notebook</a>'\n",
              "            + ' to learn more about interactive tables.';\n",
              "          element.innerHTML = '';\n",
              "          dataTable['output_type'] = 'display_data';\n",
              "          await google.colab.output.renderOutput(dataTable, element);\n",
              "          const docLink = document.createElement('div');\n",
              "          docLink.innerHTML = docLinkHtml;\n",
              "          element.appendChild(docLink);\n",
              "        }\n",
              "      </script>\n",
              "    </div>\n",
              "  </div>\n",
              "  "
            ]
          },
          "metadata": {},
          "execution_count": 19
        }
      ]
    },
    {
      "cell_type": "code",
      "metadata": {
        "id": "2-s-lr--FGVg"
      },
      "source": [
        "# split dataset into 80/20 training/testing\n",
        "split = round(len(df)*0.8)\n",
        "train_product = df['product'][:split]\n",
        "train_comments = df['comments'][:split]\n",
        "train_label = df['rating'][:split]\n",
        "test_product = df['product'][split:]\n",
        "test_comments = df['comments'][split:]\n",
        "test_label = df['rating'][split:]"
      ],
      "execution_count": 20,
      "outputs": []
    },
    {
      "cell_type": "code",
      "metadata": {
        "colab": {
          "base_uri": "https://localhost:8080/"
        },
        "id": "rAflBM5rQTpx",
        "outputId": "a7bd6409-2100-4677-90a3-a98c34fd7fe8"
      },
      "source": [
        "train_comments.head()"
      ],
      "execution_count": 21,
      "outputs": [
        {
          "output_type": "execute_result",
          "data": {
            "text/plain": [
              "0    Normal Matcha green tea, not much to say about...\n",
              "1    Standard Milk tea with 4 different toppings in...\n",
              "2    Good drink with actual mango chunks. Only issu...\n",
              "3    Not good, too thick. Soy milk does not go well...\n",
              "4    Very normal milk tea that is decent for its price\n",
              "Name: comments, dtype: object"
            ]
          },
          "metadata": {},
          "execution_count": 21
        }
      ]
    },
    {
      "cell_type": "code",
      "metadata": {
        "colab": {
          "base_uri": "https://localhost:8080/"
        },
        "id": "6CqNRXJnunhX",
        "outputId": "79022ce8-554c-4d7e-dc4b-e3a27479753d"
      },
      "source": [
        "tokenizer = keras.preprocessing.text.Tokenizer(num_words=100, oov_token=\"OOV\")\n",
        "tokenizer.fit_on_texts(train_comments)\n",
        "word_index = tokenizer.word_index\n",
        "print(word_index) # look its a dictionary of all the words remus uses in his reviews (for train data)\n"
      ],
      "execution_count": 22,
      "outputs": [
        {
          "output_type": "stream",
          "name": "stdout",
          "text": [
            "{'OOV': 1, 'the': 2, 'milk': 3, 'tea': 4, 'like': 5, 'is': 6, 'you': 7, 'it': 8, 'normal': 9, 'not': 10, 'tastes': 11, 'and': 12, 'a': 13, 'to': 14, 'i': 15, 'with': 16, 'that': 17, 'sugar': 18, 'but': 19, 'for': 20, 'get': 21, 'so': 22, 'of': 23, 'they': 24, 'if': 25, 'good': 26, 'price': 27, 'as': 28, 'its': 29, 'brown': 30, 'than': 31, 'really': 32, 'slightly': 33, 'taste': 34, 'much': 35, 'this': 36, 'well': 37, 'very': 38, 'better': 39, 'can': 40, 'in': 41, 'inside': 42, 'drink': 43, 'what': 44, 'would': 45, 'pretty': 46, 'sweet': 47, 'standard': 48, 'too': 49, 'decent': 50, 'from': 51, 'cup': 52, 'one': 53, 'pearls': 54, 'about': 55, 'different': 56, 'on': 57, 'there': 58, 'are': 59, 'also': 60, 'do': 61, 'will': 62, 'weird': 63, 'was': 64, 'special': 65, 'pearl': 66, 'expect': 67, 'less': 68, 'chewy': 69, 'at': 70, 'nothing': 71, 'nice': 72, 'or': 73, 'my': 74, 'actual': 75, 'only': 76, 'does': 77, 'go': 78, 'tasting': 79, 'imo': 80, 'use': 81, 'version': 82, 'regular': 83, 'fresh': 84, 'should': 85, 'tasted': 86, 'seems': 87, 'more': 88, 'have': 89, 'plus': 90, 'flavor': 91, 'matcha': 92, 'ok': 93, 'sister': 94, 'mango': 95, 'issue': 96, 'soy': 97, 'sticker': 98, 'tho': 99, 'points': 100, \"don't\": 101, 'gets': 102, 'sweeter': 103, 'instead': 104, 'worth': 105, 'teas': 106, 'has': 107, 'buy': 108, 'mix': 109, 'seem': 110, 'powder': 111, 'particles': 112, 'bonus': 113, 'except': 114, 'abit': 115, 'me': 116, 'just': 117, 'fruit': 118, 'want': 119, 'their': 120, 'be': 121, 'expected': 122, 'when': 123, 'either': 124, 'them': 125, 'day': 126, 'say': 127, '4': 128, 'thick': 129, 'koi': 130, 'by': 131, 'minus': 132, 'flavorful': 133, 'size': 134, 'logo': 135, 'quality': 136, '50': 137, 'think': 138, 'such': 139, 'overall': 140, 'reccomend': 141, 'marks': 142, 'being': 143, 'big': 144, '10': 145, 'down': 146, 'promo': 147, 'container': 148, 'else': 149, 'fruits': 150, 'bitter': 151, 'personally': 152, 'higher': 153, 'atmosphere': 154, 'yogurt': 155, 'peach': 156, 'uniqueness': 157, 'give': 158, 'shot': 159, 'mixed': 160, 'fizz': 161, 'drinks': 162, 'student': 163, 'cheaper': 164, 'together': 165, 'actually': 166, 'bad': 167, 'same': 168, 'no': 169, 'ice': 170, 'recommend': 171, 'worse': 172, 'gritty': 173, 'texture': 174, 'coconut': 175, 'lower': 176, 'tbh': 177, 'here': 178, 'level': 179, 'meh': 180, 'green': 181, \"you'll\": 182, 'toppings': 183, \"didn't\": 184, 'red': 185, 'bean': 186, 'chunks': 187, 'high': 188, 'amount': 189, 'thai': 190, 'probably': 191, \"won't\": 192, 'paired': 193, 'founder': 194, 'breadtalk': 195, 'matches': 196, 'similar': 197, 'almost': 198, 'used': 199, 'condensed': 200, 'brewed': 201, 'each': 202, 'weirder': 203, 'flavours': 204, 'flavors': 205, 'sometimes': 206, 'additioanl': 207, 'litre': 208, 'bbt': 209, 'ass': 210, 'bring': 211, 'tutorials': 212, 'people': 213, 'look': 214, 'funny': 215, 'way': 216, 'feels': 217, 'concept': 218, 'cafe': 219, 'close': 220, 'soon': 221, 'takeaway': 222, 'an': 223, 'acutal': 224, 'hole': 225, 'straw': 226, 'presentation': 227, 'dilute': 228, 'even': 229, 'remember': 230, 'lmao': 231, 'fan': 232, 'prefer': 233, 'cheeze': 234, 'foam': 235, 'top': 236, 'combination': 237, 'atas': 238, 'felt': 239, 'kinda': 240, 'going': 241, 'slippers': 242, 'haha': 243, 'sour': 244, 'gum': 245, 'raises': 246, 'ranking': 247, 'prie': 248, 'square': 249, 'thought': 250, 'macchiato': 251, 'said': 252, \"i'm\": 253, 'gonna': 254, 'differ': 255, 'her': 256, 'rate': 257, '7': 258, 'strong': 259, 'enough': 260, 'white': 261, 'yakult': 262, 'which': 263, 'ratio': 264, 'cordial': 265, 'other': 266, 'next': 267, 'time': 268, 'see': 269, 'fridge': 270, 'concentrate': 271, 'fizzy': 272, 'water': 273, 'medium': 274, 'may': 275, 'because': 276, 'tell': 277, 'focus': 278, 'diluted': 279, 'however': 280, 'baseline': 281, 'notable': 282, 'ask': 283, 'liho': 284, 'panna': 285, 'cotta': 286, 'meshes': 287, 'sweetness': 288, \"doesn't\": 289, 'fake': 290, 'purely': 291, 'making': 292, 'could': 293, 'uses': 294, 'brew': 295, 'front': 296, 'did': 297, 'properly': 298, 'ingredients': 299, 'ratios': 300, 'mesh': 301, 'giving': 302, 'hard': 303, 'descibe': 304, 'aftertaste': 305, 'closing': 306, '20': 307, 'december': 308, '2021': 309, 'chance': 310, 'anymore': 311, 'anyway': 312, 'both': 313, 'boba': 314, 'undercooked': 315, 'tough': 316, 'feel': 317, 'uncooked': 318, 'interior': 319, 'opposite': 320, 'prime': 321, 'ntu': 322, 'expensive': 323, 'flavoring': 324, 'artificial': 325, 'bits': 326, 'levels': 327, 'mean': 328, 'weekdays': 329, 'demand': 330, 'might': 331, 'order': 332, 'grass': 333, 'jelly': 334, 'bitterness': 335, 'causes': 336, 'shines': 337, 'pop': 338, 'rather': 339, 'bite': 340, 'into': 341, 'burst': 342, 'your': 343, 'mouth': 344, 'releasing': 345, 'definitely': 346, 'unique': 347, 'experience': 348, 'try': 349, 'chewier': 350, 'liked': 351, 'factor': 352, 'bumps': 353, 'up': 354, 'point': 355, 'wide': 356, 'variety': 357, 'choose': 358, 'buying': 359, 'supertea': 360, 'r': 361, 'b': 362, 'btw': 363, 'basically': 364, \"you're\": 365, 'getting': 366, 'sharetea': 367, 'below': 368, 'average': 369, 'cute': 370, 'bought': 371, 'multiple': 372, 'times': 373, 'handmade': 374, 'varies': 375, 'series': 376, 'dough': 377, 'blend': 378, 'konjac': 379, 'whatever': 380, 'happens': 381, 'available': 382, 'store': 383, 'pioneer': 384, 'mall': 385, 'youre': 386, 'ever': 387, 'area': 388, 'alot': 389, 'suggest': 390, 'normally': 391, 'lot': 392, 'maybe': 393, 'watered': 394, 'q': 395, 'kombucha': 396}\n"
          ]
        }
      ]
    },
    {
      "cell_type": "code",
      "metadata": {
        "id": "21zmmdWKNDA3"
      },
      "source": [
        "# pad reviews so theyre the same length\n",
        "train_sequences = tokenizer.texts_to_sequences(train_comments)\n",
        "train_sequences = keras.preprocessing.sequence.pad_sequences(train_sequences, truncating='post')\n",
        "max_length = len(train_sequences[0])\n",
        "\n",
        "test_sequences = tokenizer.texts_to_sequences(test_comments)\n",
        "test_sequences = keras.preprocessing.sequence.pad_sequences(test_sequences, maxlen=max_length,truncating='post')\n",
        "\n",
        "\n",
        "vocab_size=len(word_index)\n",
        "max_length = len(train_sequences[0])\n",
        "embedding_dim = 16 # dimension of embedding vector which is like a vector representing how good/bad/blue/orange something is"
      ],
      "execution_count": 23,
      "outputs": []
    },
    {
      "cell_type": "code",
      "metadata": {
        "id": "HpZHQReFPVmC"
      },
      "source": [
        "model = tf.keras.Sequential([\n",
        "    tf.keras.layers.Embedding(vocab_size, embedding_dim, input_length=max_length),\n",
        "    tf.keras.layers.GlobalAveragePooling1D(),\n",
        "    tf.keras.layers.Dense(24, activation='relu'),\n",
        "    tf.keras.layers.Dense(1, activation='relu')\n",
        "])\n",
        "model.compile(loss='mae',optimizer='adam')"
      ],
      "execution_count": 24,
      "outputs": []
    },
    {
      "cell_type": "code",
      "metadata": {
        "colab": {
          "base_uri": "https://localhost:8080/"
        },
        "id": "nFB5Mn-03WrF",
        "outputId": "0a3b01a7-85c9-45ca-de97-2cd9e9b40296"
      },
      "source": [
        "model.summary()"
      ],
      "execution_count": 25,
      "outputs": [
        {
          "output_type": "stream",
          "name": "stdout",
          "text": [
            "Model: \"sequential_1\"\n",
            "_________________________________________________________________\n",
            " Layer (type)                Output Shape              Param #   \n",
            "=================================================================\n",
            " embedding_1 (Embedding)     (None, 88, 16)            6336      \n",
            "                                                                 \n",
            " global_average_pooling1d_1   (None, 16)               0         \n",
            " (GlobalAveragePooling1D)                                        \n",
            "                                                                 \n",
            " dense_2 (Dense)             (None, 24)                408       \n",
            "                                                                 \n",
            " dense_3 (Dense)             (None, 1)                 25        \n",
            "                                                                 \n",
            "=================================================================\n",
            "Total params: 6,769\n",
            "Trainable params: 6,769\n",
            "Non-trainable params: 0\n",
            "_________________________________________________________________\n"
          ]
        }
      ]
    },
    {
      "cell_type": "code",
      "metadata": {
        "colab": {
          "base_uri": "https://localhost:8080/"
        },
        "id": "4XzG_HcA3YP3",
        "outputId": "1dea89c7-e2a0-4187-81ec-b8d92f8ff7b3"
      },
      "source": [
        "num_epochs =60\n",
        "history = model.fit(train_sequences, train_label, epochs=num_epochs, validation_data=(test_sequences, test_label), verbose=2)"
      ],
      "execution_count": 26,
      "outputs": [
        {
          "output_type": "stream",
          "name": "stdout",
          "text": [
            "Epoch 1/60\n",
            "3/3 - 1s - loss: 6.1439 - val_loss: 6.0882 - 929ms/epoch - 310ms/step\n",
            "Epoch 2/60\n",
            "3/3 - 0s - loss: 6.1436 - val_loss: 6.0872 - 43ms/epoch - 14ms/step\n",
            "Epoch 3/60\n",
            "3/3 - 0s - loss: 6.1423 - val_loss: 6.0802 - 41ms/epoch - 14ms/step\n",
            "Epoch 4/60\n",
            "3/3 - 0s - loss: 6.1313 - val_loss: 6.0620 - 43ms/epoch - 14ms/step\n",
            "Epoch 5/60\n",
            "3/3 - 0s - loss: 6.1126 - val_loss: 6.0427 - 41ms/epoch - 14ms/step\n",
            "Epoch 6/60\n",
            "3/3 - 0s - loss: 6.0943 - val_loss: 6.0253 - 40ms/epoch - 13ms/step\n",
            "Epoch 7/60\n",
            "3/3 - 0s - loss: 6.0781 - val_loss: 6.0090 - 42ms/epoch - 14ms/step\n",
            "Epoch 8/60\n",
            "3/3 - 0s - loss: 6.0619 - val_loss: 5.9909 - 57ms/epoch - 19ms/step\n",
            "Epoch 9/60\n",
            "3/3 - 0s - loss: 6.0432 - val_loss: 5.9699 - 42ms/epoch - 14ms/step\n",
            "Epoch 10/60\n",
            "3/3 - 0s - loss: 6.0221 - val_loss: 5.9474 - 44ms/epoch - 15ms/step\n",
            "Epoch 11/60\n",
            "3/3 - 0s - loss: 5.9995 - val_loss: 5.9237 - 45ms/epoch - 15ms/step\n",
            "Epoch 12/60\n",
            "3/3 - 0s - loss: 5.9753 - val_loss: 5.8972 - 44ms/epoch - 15ms/step\n",
            "Epoch 13/60\n",
            "3/3 - 0s - loss: 5.9487 - val_loss: 5.8691 - 44ms/epoch - 15ms/step\n",
            "Epoch 14/60\n",
            "3/3 - 0s - loss: 5.9205 - val_loss: 5.8395 - 40ms/epoch - 13ms/step\n",
            "Epoch 15/60\n",
            "3/3 - 0s - loss: 5.8909 - val_loss: 5.8084 - 50ms/epoch - 17ms/step\n",
            "Epoch 16/60\n",
            "3/3 - 0s - loss: 5.8597 - val_loss: 5.7756 - 40ms/epoch - 13ms/step\n",
            "Epoch 17/60\n",
            "3/3 - 0s - loss: 5.8268 - val_loss: 5.7409 - 41ms/epoch - 14ms/step\n",
            "Epoch 18/60\n",
            "3/3 - 0s - loss: 5.7921 - val_loss: 5.7042 - 44ms/epoch - 15ms/step\n",
            "Epoch 19/60\n",
            "3/3 - 0s - loss: 5.7554 - val_loss: 5.6655 - 57ms/epoch - 19ms/step\n",
            "Epoch 20/60\n",
            "3/3 - 0s - loss: 5.7166 - val_loss: 5.6244 - 49ms/epoch - 16ms/step\n",
            "Epoch 21/60\n",
            "3/3 - 0s - loss: 5.6753 - val_loss: 5.5809 - 63ms/epoch - 21ms/step\n",
            "Epoch 22/60\n",
            "3/3 - 0s - loss: 5.6317 - val_loss: 5.5347 - 76ms/epoch - 25ms/step\n",
            "Epoch 23/60\n",
            "3/3 - 0s - loss: 5.5853 - val_loss: 5.4857 - 53ms/epoch - 18ms/step\n",
            "Epoch 24/60\n",
            "3/3 - 0s - loss: 5.5361 - val_loss: 5.4338 - 55ms/epoch - 18ms/step\n",
            "Epoch 25/60\n",
            "3/3 - 0s - loss: 5.4840 - val_loss: 5.3786 - 80ms/epoch - 27ms/step\n",
            "Epoch 26/60\n",
            "3/3 - 0s - loss: 5.4286 - val_loss: 5.3201 - 70ms/epoch - 23ms/step\n",
            "Epoch 27/60\n",
            "3/3 - 0s - loss: 5.3698 - val_loss: 5.2580 - 72ms/epoch - 24ms/step\n",
            "Epoch 28/60\n",
            "3/3 - 0s - loss: 5.3075 - val_loss: 5.1921 - 67ms/epoch - 22ms/step\n",
            "Epoch 29/60\n",
            "3/3 - 0s - loss: 5.2416 - val_loss: 5.1224 - 60ms/epoch - 20ms/step\n",
            "Epoch 30/60\n",
            "3/3 - 0s - loss: 5.1718 - val_loss: 5.0485 - 51ms/epoch - 17ms/step\n",
            "Epoch 31/60\n",
            "3/3 - 0s - loss: 5.0978 - val_loss: 4.9703 - 52ms/epoch - 17ms/step\n",
            "Epoch 32/60\n",
            "3/3 - 0s - loss: 5.0193 - val_loss: 4.8876 - 70ms/epoch - 23ms/step\n",
            "Epoch 33/60\n",
            "3/3 - 0s - loss: 4.9363 - val_loss: 4.7998 - 83ms/epoch - 28ms/step\n",
            "Epoch 34/60\n",
            "3/3 - 0s - loss: 4.8485 - val_loss: 4.7069 - 58ms/epoch - 19ms/step\n",
            "Epoch 35/60\n",
            "3/3 - 0s - loss: 4.7555 - val_loss: 4.6088 - 59ms/epoch - 20ms/step\n",
            "Epoch 36/60\n",
            "3/3 - 0s - loss: 4.6573 - val_loss: 4.5050 - 56ms/epoch - 19ms/step\n",
            "Epoch 37/60\n",
            "3/3 - 0s - loss: 4.5534 - val_loss: 4.3956 - 66ms/epoch - 22ms/step\n",
            "Epoch 38/60\n",
            "3/3 - 0s - loss: 4.4439 - val_loss: 4.2800 - 55ms/epoch - 18ms/step\n",
            "Epoch 39/60\n",
            "3/3 - 0s - loss: 4.3283 - val_loss: 4.1581 - 56ms/epoch - 19ms/step\n",
            "Epoch 40/60\n",
            "3/3 - 0s - loss: 4.2065 - val_loss: 4.0300 - 74ms/epoch - 25ms/step\n",
            "Epoch 41/60\n",
            "3/3 - 0s - loss: 4.0785 - val_loss: 3.8952 - 71ms/epoch - 24ms/step\n",
            "Epoch 42/60\n",
            "3/3 - 0s - loss: 3.9436 - val_loss: 3.7535 - 52ms/epoch - 17ms/step\n",
            "Epoch 43/60\n",
            "3/3 - 0s - loss: 3.8022 - val_loss: 3.6048 - 58ms/epoch - 19ms/step\n",
            "Epoch 44/60\n",
            "3/3 - 0s - loss: 3.6537 - val_loss: 3.4492 - 79ms/epoch - 26ms/step\n",
            "Epoch 45/60\n",
            "3/3 - 0s - loss: 3.4982 - val_loss: 3.2865 - 73ms/epoch - 24ms/step\n",
            "Epoch 46/60\n",
            "3/3 - 0s - loss: 3.3355 - val_loss: 3.1164 - 73ms/epoch - 24ms/step\n",
            "Epoch 47/60\n",
            "3/3 - 0s - loss: 3.1657 - val_loss: 2.9386 - 85ms/epoch - 28ms/step\n",
            "Epoch 48/60\n",
            "3/3 - 0s - loss: 2.9911 - val_loss: 2.7542 - 80ms/epoch - 27ms/step\n",
            "Epoch 49/60\n",
            "3/3 - 0s - loss: 2.8141 - val_loss: 2.5626 - 55ms/epoch - 18ms/step\n",
            "Epoch 50/60\n",
            "3/3 - 0s - loss: 2.6304 - val_loss: 2.3636 - 53ms/epoch - 18ms/step\n",
            "Epoch 51/60\n",
            "3/3 - 0s - loss: 2.4457 - val_loss: 2.1637 - 52ms/epoch - 17ms/step\n",
            "Epoch 52/60\n",
            "3/3 - 0s - loss: 2.2572 - val_loss: 1.9715 - 57ms/epoch - 19ms/step\n",
            "Epoch 53/60\n",
            "3/3 - 0s - loss: 2.0807 - val_loss: 1.7931 - 62ms/epoch - 21ms/step\n",
            "Epoch 54/60\n",
            "3/3 - 0s - loss: 1.8928 - val_loss: 1.6165 - 52ms/epoch - 17ms/step\n",
            "Epoch 55/60\n",
            "3/3 - 0s - loss: 1.7132 - val_loss: 1.4256 - 53ms/epoch - 18ms/step\n",
            "Epoch 56/60\n",
            "3/3 - 0s - loss: 1.5220 - val_loss: 1.2300 - 72ms/epoch - 24ms/step\n",
            "Epoch 57/60\n",
            "3/3 - 0s - loss: 1.3290 - val_loss: 1.0568 - 59ms/epoch - 20ms/step\n",
            "Epoch 58/60\n",
            "3/3 - 0s - loss: 1.1708 - val_loss: 0.9053 - 81ms/epoch - 27ms/step\n",
            "Epoch 59/60\n",
            "3/3 - 0s - loss: 1.0216 - val_loss: 0.7868 - 59ms/epoch - 20ms/step\n",
            "Epoch 60/60\n",
            "3/3 - 0s - loss: 0.8844 - val_loss: 0.7028 - 70ms/epoch - 23ms/step\n"
          ]
        }
      ]
    },
    {
      "cell_type": "code",
      "metadata": {
        "colab": {
          "base_uri": "https://localhost:8080/",
          "height": 279
        },
        "id": "RrV4-Jqh7xrh",
        "outputId": "e4a32740-7543-4e8e-8cc3-0479cef8461e"
      },
      "source": [
        "import matplotlib.pyplot as plt\n",
        "\n",
        "\n",
        "def plot_graphs(history, string):\n",
        "  plt.plot(history.history[string])\n",
        "  plt.plot(history.history['val_'+string])\n",
        "  plt.xlabel(\"Epochs\")\n",
        "  plt.ylabel(string)\n",
        "  plt.legend([string, 'val_'+string])\n",
        "  plt.show()\n",
        "  \n",
        "\n",
        "plot_graphs(history, \"loss\")"
      ],
      "execution_count": 27,
      "outputs": [
        {
          "output_type": "display_data",
          "data": {
            "text/plain": [
              "<Figure size 432x288 with 1 Axes>"
            ],
            "image/png": "[encoded data removed]"
          },
          "metadata": {
            "needs_background": "light"
          }
        }
      ]
    },
    {
      "cell_type": "code",
      "metadata": {
        "colab": {
          "base_uri": "https://localhost:8080/"
        },
        "id": "UVMLJbwu749o",
        "outputId": "3b6fbff5-526c-46e8-b036-4c6249c390f7"
      },
      "source": [
        "reverse_word_index = dict([(value, key) for (key, value) in word_index.items()])\n",
        "\n",
        "def decode_sentence(text):\n",
        "    return ' '.join([reverse_word_index.get(i, '?') for i in text])\n",
        "\n",
        "print(\"Review with padding:\")\n",
        "print(decode_sentence(test_sequences[0]))\n",
        "print(\"Encoded review:\")\n",
        "print(test_sequences[0])\n",
        "print(\"Rating:\")\n",
        "print(test_label.iloc[0])\n",
        "\n",
        "print(model.predict(np.array([test_sequences[0]])))"
      ],
      "execution_count": 64,
      "outputs": [
        {
          "output_type": "stream",
          "name": "stdout",
          "text": [
            "Review with padding:\n",
            "? ? ? ? ? ? ? ? ? ? ? ? ? ? ? ? ? ? ? ? ? ? ? ? ? ? ? ? ? ? ? ? ? ? ? ? ? ? ? ? ? ? ? ? ? ? ? ? ? ? ? ? ? ? ? ? ? ? ? ? ? ? ? ? ? ? ? ? ? ? ? ? ? ? ? ? ? ? ? ? ? ? ? standard milk tea nothing special\n",
            "Encoded review:\n",
            "[ 0  0  0  0  0  0  0  0  0  0  0  0  0  0  0  0  0  0  0  0  0  0  0  0\n",
            "  0  0  0  0  0  0  0  0  0  0  0  0  0  0  0  0  0  0  0  0  0  0  0  0\n",
            "  0  0  0  0  0  0  0  0  0  0  0  0  0  0  0  0  0  0  0  0  0  0  0  0\n",
            "  0  0  0  0  0  0  0  0  0  0  0 48  3  4 71 65]\n",
            "Rating:\n",
            "6.0\n",
            "1/1 [==============================] - 0s 141ms/step\n",
            "[[5.938948]]\n"
          ]
        }
      ]
    },
    {
      "cell_type": "code",
      "metadata": {
        "colab": {
          "base_uri": "https://localhost:8080/"
        },
        "id": "w9f1YQO68V7g",
        "outputId": "2b292c92-118c-4a3a-c2df-464301f240b6"
      },
      "source": [
        "# bubble tea reviews testing\n",
        "sentence = [\"the best milk tea i have ever had, tastes heavenly and worth every penny, highly recommended\", \n",
        "            \"tastes bad, very bland, too expensive, not worth the money. do not buy\"]\n",
        "sequences = tokenizer.texts_to_sequences(sentence)\n",
        "padded = keras.preprocessing.sequence.pad_sequences(sequences, maxlen=max_length, truncating='post')\n",
        "print(model.predict(padded))"
      ],
      "execution_count": 72,
      "outputs": [
        {
          "output_type": "stream",
          "name": "stdout",
          "text": [
            "1/1 [==============================] - 0s 36ms/step\n",
            "[[5.946418]\n",
            " [5.916676]]\n"
          ]
        }
      ]
    }
  ]
}